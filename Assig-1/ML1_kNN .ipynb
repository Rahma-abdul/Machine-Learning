{
 "cells": [
  {
   "cell_type": "markdown",
   "id": "d4114307",
   "metadata": {},
   "source": [
    "**Import Libraries**"
   ]
  },
  {
   "cell_type": "code",
   "execution_count": 1,
   "id": "7079e37d",
   "metadata": {},
   "outputs": [],
   "source": [
    "import numpy as np\n",
    "import pandas as pd \n",
    "import matplotlib.pyplot as plt\n",
    "import seaborn as sns\n",
    "\n",
    "from sklearn.metrics import accuracy_score, classification_report, confusion_matrix, ConfusionMatrixDisplay \n",
    "from sklearn.model_selection import train_test_split\n",
    "from scipy.stats import mode\n",
    "from imblearn import under_sampling\n",
    "from imblearn.under_sampling import RandomUnderSampler\n",
    "\n",
    "\n",
    "from sklearn.neighbors import KNeighborsClassifier"
   ]
  },
  {
   "cell_type": "markdown",
   "id": "5d1dff60",
   "metadata": {},
   "source": [
    "**Read Data From The File**"
   ]
  },
  {
   "cell_type": "code",
   "execution_count": 2,
   "id": "2ab5c579",
   "metadata": {
    "scrolled": true
   },
   "outputs": [],
   "source": [
    "data=pd.read_csv(\"magic04.data\")"
   ]
  },
  {
   "cell_type": "markdown",
   "id": "62146742",
   "metadata": {},
   "source": [
    "**Declare feature vector and target variable**"
   ]
  },
  {
   "cell_type": "code",
   "execution_count": 3,
   "id": "c22c5a80",
   "metadata": {
    "scrolled": true
   },
   "outputs": [],
   "source": [
    "X = data.drop(['c'], axis=1)\n",
    "y = data['c']"
   ]
  },
  {
   "cell_type": "markdown",
   "id": "39f51400",
   "metadata": {},
   "source": [
    "**Balance the Datasets: (Undersampling)**"
   ]
  },
  {
   "cell_type": "code",
   "execution_count": 4,
   "id": "4f6e8ae7",
   "metadata": {},
   "outputs": [
    {
     "data": {
      "text/plain": [
       "c\n",
       "g    6688\n",
       "h    6688\n",
       "Name: count, dtype: int64"
      ]
     },
     "execution_count": 4,
     "metadata": {},
     "output_type": "execute_result"
    }
   ],
   "source": [
    "# creating dataframe from X\n",
    "data = pd.DataFrame(X)\n",
    "# converting NDArray to series\n",
    "target = pd.Series(y)\n",
    "\n",
    "# sampling_strategy for majority class\n",
    "# majority -> resamples only the majority class\n",
    "undersampler = RandomUnderSampler(sampling_strategy=\"majority\")\n",
    "# resampled data and target\n",
    "undersampled_data, undersampled_target = undersampler.fit_resample(data, target)\n",
    "# class distribution\n",
    "undersampled_target.value_counts()"
   ]
  },
  {
   "cell_type": "markdown",
   "id": "d54e2164",
   "metadata": {},
   "source": [
    "**Split Dataset into Training, Validation and Test Sets**"
   ]
  },
  {
   "cell_type": "code",
   "execution_count": 5,
   "id": "362c0bb7",
   "metadata": {},
   "outputs": [],
   "source": [
    "train_ratio = 0.7\n",
    "validation_ratio = 0.15\n",
    "test_ratio = 0.15\n",
    "\n",
    "# train is now 70% of the entire data set\n",
    "# test_size=1 - train_ratio\n",
    "x_train, x_rest, y_train, y_rest = train_test_split(undersampled_data, undersampled_target, test_size=0.3)\n",
    "\n",
    "# test is now 15% of the initial data set\n",
    "# validation is now 15% of the initial data set\n",
    "#test_size=test_ratio/(test_ratio + validation_ratio)\n",
    "x_val, x_test, y_val, y_test = train_test_split(x_rest, y_rest, test_size=0.5) \n",
    "\n"
   ]
  },
  {
   "cell_type": "markdown",
   "id": "6363be1f",
   "metadata": {},
   "source": [
    "**Create the Model and Train it**<br>\n",
    "**Use Validation Set to Predict the k Value for Best Results**"
   ]
  },
  {
   "cell_type": "markdown",
   "id": "e8996228",
   "metadata": {},
   "source": [
    "Steps:<br>\n",
    "1- Create an array to store our accuracy values for every k tried<br>\n",
    "2- KNeighborsClassifer function finds the k nearest neighbouring points<br>\n",
    "3- The .fit() function stores the dataset in an efficient Data Structure for searching.<br>\n",
    "4- The .predict() function classifies a data point from the validation test by finding the 'k' nearest neighbours from the Train      Data and classify the query point based on the majority vote.<br>\n",
    "5- The accuracy_score() function compares the predicted value and the actual value of the new data point<br>\n",
    "6- The accuracy is added to the accuracy list and the steps are repeated for other values of k"
   ]
  },
  {
   "cell_type": "code",
   "execution_count": 6,
   "id": "2db0d799",
   "metadata": {},
   "outputs": [
    {
     "name": "stdout",
     "output_type": "stream",
     "text": [
      "Accuracy:  0.7422731804586241\n",
      "Accuracy:  0.7492522432701895\n",
      "Accuracy:  0.7617148554336989\n",
      "Accuracy:  0.7597208374875374\n",
      "Accuracy:  0.7711864406779662\n",
      "Accuracy:  0.7632103688933201\n",
      "Accuracy:  0.7711864406779662\n",
      "Accuracy:  0.7721834496510469\n",
      "Accuracy:  0.7741774675972084\n",
      "Accuracy:  0.767198404785643\n",
      "Accuracy:  0.769690927218345\n",
      "Accuracy:  0.7666999002991027\n",
      "Accuracy:  0.7691924227318045\n",
      "Accuracy:  0.7662013958125623\n",
      "Accuracy:  0.769690927218345\n",
      "Accuracy:  0.767198404785643\n",
      "Accuracy:  0.7701894317048853\n",
      "Accuracy:  0.769690927218345\n",
      "Accuracy:  0.7711864406779662\n",
      "Accuracy:  0.7711864406779662\n",
      "Accuracy:  0.7726819541375872\n",
      "Accuracy:  0.7686939182452642\n",
      "Accuracy:  0.7726819541375872\n",
      "Accuracy:  0.7691924227318045\n"
     ]
    },
    {
     "data": {
      "text/plain": [
       "[<matplotlib.lines.Line2D at 0x19b9a620c10>]"
      ]
     },
     "execution_count": 6,
     "metadata": {},
     "output_type": "execute_result"
    },
    {
     "data": {
      "image/png": "[encoded data removed]",
      "text/plain": [
       "<Figure size 640x480 with 1 Axes>"
      ]
     },
     "metadata": {},
     "output_type": "display_data"
    }
   ],
   "source": [
    "accuracy=[]\n",
    "for i in range(1,25):\n",
    "    model=KNeighborsClassifier(n_neighbors=i)\n",
    "    model.fit(x_train, y_train)\n",
    "    y_pred = model.predict(x_val)\n",
    "    acc = accuracy_score(y_val,y_pred)\n",
    "    print(\"Accuracy: \", acc)\n",
    "    accuracy.append(acc)\n",
    "    \n",
    "plt.plot(range(1,25), accuracy, color='blue', marker='x', linestyle='dashed')\n",
    "        "
   ]
  },
  {
   "cell_type": "markdown",
   "id": "10f35ba0",
   "metadata": {},
   "source": [
    "**As the above graph shows, the best results occur at k=5 with accuracy of approximately 76%**"
   ]
  },
  {
   "cell_type": "markdown",
   "id": "320ea459",
   "metadata": {},
   "source": [
    "**Test the test set using the above model with k=5**"
   ]
  },
  {
   "cell_type": "code",
   "execution_count": 7,
   "id": "790a89f8",
   "metadata": {},
   "outputs": [
    {
     "name": "stdout",
     "output_type": "stream",
     "text": [
      "Accuracy:  0.7603388141504733\n"
     ]
    }
   ],
   "source": [
    "model = KNeighborsClassifier(n_neighbors=5)\n",
    "model.fit(x_train,y_train)\n",
    "yPred=model.predict(x_test)\n",
    "testDataAccuracy = accuracy_score(y_test,yPred)\n",
    "print(\"Accuracy: \",testDataAccuracy )\n",
    "    "
   ]
  },
  {
   "cell_type": "code",
   "execution_count": 8,
   "id": "bf04516c",
   "metadata": {},
   "outputs": [
    {
     "name": "stdout",
     "output_type": "stream",
     "text": [
      "              precision    recall  f1-score   support\n",
      "\n",
      "           g       0.74      0.81      0.78      1018\n",
      "           h       0.79      0.70      0.74       989\n",
      "\n",
      "    accuracy                           0.76      2007\n",
      "   macro avg       0.76      0.76      0.76      2007\n",
      "weighted avg       0.76      0.76      0.76      2007\n",
      "\n"
     ]
    }
   ],
   "source": [
    "print(classification_report(y_test,yPred))"
   ]
  },
  {
   "cell_type": "code",
   "execution_count": 9,
   "id": "15460dce",
   "metadata": {},
   "outputs": [
    {
     "data": {
      "image/png": "[encoded data removed]",
      "text/plain": [
       "<Figure size 640x480 with 2 Axes>"
      ]
     },
     "metadata": {},
     "output_type": "display_data"
    }
   ],
   "source": [
    "ConfusionMatrixDisplay(confusion_matrix(y_test, yPred), display_labels=model.classes_).plot()\n",
    "plt.show()"
   ]
  },
  {
   "cell_type": "code",
   "execution_count": null,
   "id": "b6ea2366",
   "metadata": {},
   "outputs": [],
   "source": []
  },
  {
   "cell_type": "code",
   "execution_count": null,
   "id": "884fcd9c",
   "metadata": {},
   "outputs": [],
   "source": []
  }
 ],
 "metadata": {
  "kernelspec": {
   "display_name": "Python 3 (ipykernel)",
   "language": "python",
   "name": "python3"
  },
  "language_info": {
   "codemirror_mode": {
    "name": "ipython",
    "version": 3
   },
   "file_extension": ".py",
   "mimetype": "text/x-python",
   "name": "python",
   "nbconvert_exporter": "python",
   "pygments_lexer": "ipython3",
   "version": "3.10.6"
  }
 },
 "nbformat": 4,
 "nbformat_minor": 5
}
