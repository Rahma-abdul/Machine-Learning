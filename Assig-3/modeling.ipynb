{
 "cells": [
  {
   "cell_type": "code",
   "execution_count": 213,
   "metadata": {},
   "outputs": [],
   "source": [
    "%store -r x_train \n",
    "%store -r x_val\n",
    "%store -r x_test\n",
    "%store -r y_train\n",
    "%store -r  y_val\n",
    "%store -r y_test\n"
   ]
  },
  {
   "cell_type": "code",
   "execution_count": 224,
   "metadata": {},
   "outputs": [],
   "source": [
    "# evaluate bagging algorithm for classification\n",
    "from numpy import mean\n",
    "from numpy import std\n",
    "import numpy as np\n",
    "from sklearn.model_selection import RepeatedStratifiedKFold,cross_val_score\n",
    "from sklearn.ensemble import BaggingRegressor\n",
    "from sklearn.model_selection import RepeatedKFold\n",
    "from sklearn.tree import DecisionTreeRegressor\n",
    "from collections import Counter\n",
    "from matplotlib import pyplot\n",
    "from sklearn.preprocessing import MinMaxScaler\n",
    "import pandas as pd\n",
    "from sklearn.metrics import r2_score,accuracy_score\n",
    "import warnings\n",
    "warnings.filterwarnings('ignore')\n",
    "\n"
   ]
  },
  {
   "cell_type": "code",
   "execution_count": 215,
   "metadata": {},
   "outputs": [],
   "source": [
    "base = []\n",
    "def bagging(x,y,n):\n",
    "  #Bootstrap sampling with replacement<--\n",
    "  for i in range (n):\n",
    "    indexes = np.random.choice(len(x), len(x), replace=True)\n",
    "    x_bag = x[indexes]\n",
    "    y_bag = y.iloc[indexes]\n",
    "    DT  = DecisionTreeRegressor()\n",
    "    DT.fit(x_bag,y_bag)\n",
    "    base.append(DT)\n",
    "  \n",
    "  return (base)\n"
   ]
  },
  {
   "cell_type": "code",
   "execution_count": 216,
   "metadata": {},
   "outputs": [
    {
     "name": "stdout",
     "output_type": "stream",
     "text": [
      "Accuracy: 21.428251060737896\n"
     ]
    }
   ],
   "source": [
    "scaler = MinMaxScaler()\n",
    "n = 10\n",
    "x_t = scaler.fit_transform(x_train,y_train)\n",
    "model = bagging(x_t,y_train,n)\n",
    "pred = []\n",
    "node =[]\n",
    "y_pred=[]\n",
    "tot_train = 0.0 \n",
    "for i in range (n):\n",
    "    y = model[i].predict(x_val)\n",
    "    pred.append(y)\n",
    "\n",
    "\n",
    "for i in range (len(x_val)):\n",
    "    for j in range (n):\n",
    "        node.append(pred[j][i])\n",
    "    max_vote = max(node,key=node.count)\n",
    "    y_pred.append(max_vote)\n",
    "    if (max_vote.argmax() == y_train).sum().item():\n",
    "                    tot_train += 1 \n",
    "    node.clear()\n",
    "\n",
    "\n",
    "y_pred = np.array(y_pred)\n",
    "acc = tot_train / len(x_train)\n",
    "print(\"Accuracy:\", acc*100)\n"
   ]
  },
  {
   "cell_type": "code",
   "execution_count": 217,
   "metadata": {},
   "outputs": [
    {
     "name": "stdout",
     "output_type": "stream",
     "text": [
      "Accuracy: 23.279802666223183\n"
     ]
    }
   ],
   "source": [
    "from sklearn.ensemble import BaggingRegressor\n",
    "# define dataset\n",
    "x=x_train\n",
    "y = y_train\n",
    "# define the model\n",
    "model = BaggingRegressor(estimator=DecisionTreeRegressor(),n_estimators=10)\n",
    "dd = model.fit(x,y)\n",
    "\n",
    "y_pred = model.predict(x_val)\n",
    "accuracy = r2_score(y_val,y_pred)\n",
    "print(\"Accuracy:\", accuracy*100)\n"
   ]
  },
  {
   "cell_type": "code",
   "execution_count": 222,
   "metadata": {},
   "outputs": [],
   "source": [
    "tree = []\n",
    "def randomforests(x,y,n):\n",
    "  #Bootstrap sampling with replacement<--\n",
    "  for i in range (n):\n",
    "    z = x.shape[0]\n",
    "    indexes = np.random.choice(z, z, replace=True)\n",
    "    x_bag = x[indexes]\n",
    "    y_bag = y.iloc[indexes]\n",
    "    DT  = DecisionTreeRegressor()\n",
    "    DT.fit(x_bag,y_bag)\n",
    "    tree.append(DT)\n",
    "  \n",
    "  return (tree)"
   ]
  },
  {
   "cell_type": "code",
   "execution_count": 225,
   "metadata": {},
   "outputs": [
    {
     "name": "stdout",
     "output_type": "stream",
     "text": [
      "Accuracy: 21.428251060737896\n"
     ]
    }
   ],
   "source": [
    "model = randomforests(x_t,y_train,n)\n",
    "pred = []\n",
    "node =[]\n",
    "y_pred=[]\n",
    "tot_train = 0.0 \n",
    "for i in range (n):\n",
    "    y = model[i].predict(x_val)\n",
    "    pred.append(y)\n",
    "\n",
    "\n",
    "for i in range (len(x_val)):\n",
    "    for j in range (n):\n",
    "        node.append(pred[j][i])\n",
    "    max_vote = Counter(node).most_common(1)[0][0]\n",
    "    #max_vote = max(node,key=node.count)\n",
    "    y_pred.append(max_vote)\n",
    "    if (max_vote.argmax() == y_train).sum().item():\n",
    "                    tot_train += 1 \n",
    "    node.clear()\n",
    "\n",
    "\n",
    "y_pred = np.array(y_pred)\n",
    "acc = tot_train / len(x_train)\n",
    "print(\"Accuracy:\", acc*100)\n"
   ]
  },
  {
   "cell_type": "code",
   "execution_count": 228,
   "metadata": {},
   "outputs": [
    {
     "name": "stdout",
     "output_type": "stream",
     "text": [
      "Accuracy: 23.10494936250983\n"
     ]
    }
   ],
   "source": [
    "from sklearn.ensemble import RandomForestRegressor\n",
    "x=x_train\n",
    "y = y_train\n",
    "regressor = RandomForestRegressor(n_estimators=10, random_state=0, oob_score=True)\n",
    "regressor.fit(x, y)\n",
    "y_pred = regressor.predict(x_val)\n",
    "accuracy = r2_score(y_val,y_pred)\n",
    "print(\"Accuracy:\", accuracy*100)\n",
    "\n"
   ]
  }
 ],
 "metadata": {
  "kernelspec": {
   "display_name": "Python 3",
   "language": "python",
   "name": "python3"
  },
  "language_info": {
   "codemirror_mode": {
    "name": "ipython",
    "version": 3
   },
   "file_extension": ".py",
   "mimetype": "text/x-python",
   "name": "python",
   "nbconvert_exporter": "python",
   "pygments_lexer": "ipython3",
   "version": "3.10.6"
  }
 },
 "nbformat": 4,
 "nbformat_minor": 2
}
